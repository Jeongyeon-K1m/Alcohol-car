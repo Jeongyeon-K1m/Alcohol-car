{
 "cells": [
  {
   "cell_type": "markdown",
   "id": "dac2710f",
   "metadata": {},
   "source": [
    "# Road Following - data collection"
   ]
  },
  {
   "cell_type": "markdown",
   "id": "1f9a0146",
   "metadata": {},
   "source": [
    "## Import Libraries"
   ]
  },
  {
   "cell_type": "code",
   "execution_count": null,
   "id": "65dbc533",
   "metadata": {},
   "outputs": [],
   "source": [
    "# IPython Libraries for display and widgets\n",
    "import traitlets\n",
    "import ipywidgets.widgets as widgets\n",
    "from IPython.display import display\n",
    "\n",
    "# Camera and Motor Interface for JetBot\n",
    "from jetbot import Robot, Camera, bgr8_to_jpeg\n",
    "\n",
    "# Python basic pakcages for image annotation\n",
    "from uuid import uuid1\n",
    "import os\n",
    "import json\n",
    "import glob\n",
    "import datetime\n",
    "import numpy as np\n",
    "import cv2\n",
    "import time"
   ]
  },
  {
   "cell_type": "markdown",
   "id": "ed77004c",
   "metadata": {},
   "source": [
    "## Display Live Camera Feed"
   ]
  },
  {
   "cell_type": "code",
   "execution_count": null,
   "id": "6db38f74",
   "metadata": {},
   "outputs": [],
   "source": [
    "camera = Camera()\n",
    "\n",
    "image_widget = widgets.Image(format='jpeg', width=224, height=224)\n",
    "target_widget = widgets.Image(format='jpeg', width=224, height=224)\n",
    "\n",
    "x_slider = widgets.FloatSlider(min=-1.0, max=1.0, step=0.001, description='x')\n",
    "y_slider = widgets.FloatSlider(min=-1.0, max=1.0, step=0.001, description='y')\n",
    "\n",
    "def display_xy(camera_image):\n",
    "    image = np.copy(camera_image)\n",
    "    x = x_slider.value\n",
    "    y = y_slider.value\n",
    "    x = int(x * 224 / 2 + 112)\n",
    "    y = int(y * 224 / 2 + 112)\n",
    "    image = cv2.circle(image, (x, y), 8, (0, 255, 0), 3)\n",
    "    image = cv2.circle(image, (112, 224), 8, (0, 0,255), 3)\n",
    "    image = cv2.line(image, (x,y), (112,224), (255,0,0), 3)\n",
    "    jpeg_image = bgr8_to_jpeg(image)\n",
    "    return jpeg_image\n",
    "\n",
    "time.sleep(1)\n",
    "traitlets.dlink((camera, 'value'), (image_widget, 'value'), transform=bgr8_to_jpeg)\n",
    "traitlets.dlink((camera, 'value'), (target_widget, 'value'), transform=display_xy)\n",
    "\n",
    "display(widgets.HBox([image_widget, target_widget]), x_slider, y_slider)"
   ]
  },
  {
   "cell_type": "markdown",
   "id": "bddce26a",
   "metadata": {},
   "source": [
    "## Create Gamepad Controller\n",
    "\n",
    "http://html5gamepad.com\n",
    "이 주소에 방문하여 자신의 컨트롤러 index에 맞게 코드를 수정한다."
   ]
  },
  {
   "cell_type": "code",
   "execution_count": null,
   "id": "ca412d12",
   "metadata": {},
   "outputs": [],
   "source": [
    "controller = widgets.Controller(index=0) #자신의 index number로 고치기\n",
    "\n",
    "display(controller)"
   ]
  },
  {
   "cell_type": "markdown",
   "id": "18ade5b3",
   "metadata": {},
   "source": [
    "## Connect Gamepad Controller to Label Images\n",
    "\n",
    "x축과 y축을 조정할 컨트롤러 버튼의 숫자에 맞게 코드를 수정한다."
   ]
  },
  {
   "cell_type": "code",
   "execution_count": null,
   "id": "a8d9fdfa",
   "metadata": {},
   "outputs": [],
   "source": [
    "widgets.jsdlink((controller.axes[0], 'value'), (x_slider, 'value'))\n",
    "widgets.jsdlink((controller.axes[1], 'value'), (y_slider, 'value'))"
   ]
  },
  {
   "cell_type": "markdown",
   "id": "ea985268",
   "metadata": {},
   "source": [
    "## Collect data\n",
    "\n",
    "이 코드를 통해서 'dataset_xy'에 캡쳐된 사진이 저장된다."
   ]
  },
  {
   "cell_type": "code",
   "execution_count": null,
   "id": "79012ba0",
   "metadata": {},
   "outputs": [],
   "source": [
    "DATASET_DIR = 'dataset_xy'\n",
    "\n",
    "# we have this \"try/except\" statement because these next functions can throw an error if the directories exist already\n",
    "try:\n",
    "    os.makedirs(DATASET_DIR)\n",
    "except FileExistsError:\n",
    "    print('Directories not created becasue they already exist')\n",
    "\n",
    "for b in controller.buttons:\n",
    "    b.unobserve_all()\n",
    "\n",
    "count_widget = widgets.IntText(description='count', value=len(glob.glob(os.path.join(DATASET_DIR, '*.jpg'))))\n",
    "\n",
    "def xy_uuid(x, y):\n",
    "    return 'xy_%03d_%03d_%s' % (x * 50 + 50, y * 50 + 50, uuid1())\n",
    "\n",
    "def save_snapshot(change):\n",
    "    if change['new']:\n",
    "        uuid = xy_uuid(x_slider.value, y_slider.value)\n",
    "        image_path = os.path.join(DATASET_DIR, uuid + '.jpg')\n",
    "        with open(image_path, 'wb') as f:\n",
    "            f.write(image_widget.value)\n",
    "        count_widget.value = len(glob.glob(os.path.join(DATASET_DIR, '*.jpg')))\n",
    "\n",
    "controller.buttons[2].observe(save_snapshot, names='value') #캡쳐할 때 누를 버튼의 숫자 알맞게 변경\n",
    "\n",
    "display(widgets.VBox([\n",
    "    target_widget,\n",
    "    count_widget\n",
    "]))"
   ]
  }
 ],
 "metadata": {
  "kernelspec": {
   "display_name": "Python 3",
   "language": "python",
   "name": "python3"
  },
  "language_info": {
   "codemirror_mode": {
    "name": "ipython",
    "version": 3
   },
   "file_extension": ".py",
   "mimetype": "text/x-python",
   "name": "python",
   "nbconvert_exporter": "python",
   "pygments_lexer": "ipython3",
   "version": "3.7.10"
  }
 },
 "nbformat": 4,
 "nbformat_minor": 5
}
